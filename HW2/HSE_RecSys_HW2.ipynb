{
 "cells": [
  {
   "cell_type": "markdown",
   "id": "93831896-683d-4946-8cae-7aff56608a65",
   "metadata": {},
   "source": [
    "## ДЗ №2. Матричные факторизации"
   ]
  },
  {
   "cell_type": "markdown",
   "id": "03b424ec-3791-4113-a672-25ef7cfa704d",
   "metadata": {},
   "source": [
    "#### В этой домашке вам предстоит реализовать некоторые базовые модели матричной факторизации\n",
    "\n",
    "#### Дата выдачи: 17.02.25\n",
    "\n",
    "#### Мягкий дедлайн: 02.03.25 23:59 MSK\n",
    "\n",
    "#### Жесткий дедлайн: 09.03.25 23:59 MSK"
   ]
  },
  {
   "cell_type": "markdown",
   "id": "d8f4b315-75b8-4225-953c-5510c584ff2b",
   "metadata": {},
   "source": [
    "В этом задании мы будем работать с классическим для рекоендательных систем датасетом [MovieLens 1M](https://grouplens.org/datasets/movielens/1m/). Датасет содержит рейтинги оценки для 4000 фильмов от 6000 пользователей. Более подробное описание можете найти на странице с датасетом и в README файле"
   ]
  },
  {
   "cell_type": "code",
   "execution_count": 1,
   "id": "f5a85f84-4854-4249-963d-143d08bb7e36",
   "metadata": {},
   "outputs": [],
   "source": [
    "# !wget https://files.grouplens.org/datasets/movielens/ml-1m.zip\n",
    "# !unzip ml-1m.zip\n",
    "# !cat ml-1m/README"
   ]
  },
  {
   "cell_type": "code",
   "execution_count": 2,
   "id": "669137ca-f0f9-48d4-ae04-e42a4b0f8d14",
   "metadata": {},
   "outputs": [],
   "source": [
    "import pandas as pd\n",
    "import numpy as np\n",
    "from typing import Union"
   ]
  },
  {
   "cell_type": "code",
   "execution_count": 3,
   "id": "ed65b0ae-ce2d-437a-9739-e7981011089f",
   "metadata": {},
   "outputs": [
    {
     "data": {
      "text/html": [
       "<div>\n",
       "<style scoped>\n",
       "    .dataframe tbody tr th:only-of-type {\n",
       "        vertical-align: middle;\n",
       "    }\n",
       "\n",
       "    .dataframe tbody tr th {\n",
       "        vertical-align: top;\n",
       "    }\n",
       "\n",
       "    .dataframe thead th {\n",
       "        text-align: right;\n",
       "    }\n",
       "</style>\n",
       "<table border=\"1\" class=\"dataframe\">\n",
       "  <thead>\n",
       "    <tr style=\"text-align: right;\">\n",
       "      <th></th>\n",
       "      <th>user_id</th>\n",
       "      <th>item_id</th>\n",
       "      <th>rating</th>\n",
       "      <th>datetime</th>\n",
       "    </tr>\n",
       "  </thead>\n",
       "  <tbody>\n",
       "    <tr>\n",
       "      <th>0</th>\n",
       "      <td>1</td>\n",
       "      <td>1193</td>\n",
       "      <td>5</td>\n",
       "      <td>2000-12-31 22:12:40</td>\n",
       "    </tr>\n",
       "    <tr>\n",
       "      <th>1</th>\n",
       "      <td>1</td>\n",
       "      <td>661</td>\n",
       "      <td>3</td>\n",
       "      <td>2000-12-31 22:35:09</td>\n",
       "    </tr>\n",
       "    <tr>\n",
       "      <th>2</th>\n",
       "      <td>1</td>\n",
       "      <td>914</td>\n",
       "      <td>3</td>\n",
       "      <td>2000-12-31 22:32:48</td>\n",
       "    </tr>\n",
       "    <tr>\n",
       "      <th>3</th>\n",
       "      <td>1</td>\n",
       "      <td>3408</td>\n",
       "      <td>4</td>\n",
       "      <td>2000-12-31 22:04:35</td>\n",
       "    </tr>\n",
       "    <tr>\n",
       "      <th>4</th>\n",
       "      <td>1</td>\n",
       "      <td>2355</td>\n",
       "      <td>5</td>\n",
       "      <td>2001-01-06 23:38:11</td>\n",
       "    </tr>\n",
       "  </tbody>\n",
       "</table>\n",
       "</div>"
      ],
      "text/plain": [
       "   user_id  item_id  rating            datetime\n",
       "0        1     1193       5 2000-12-31 22:12:40\n",
       "1        1      661       3 2000-12-31 22:35:09\n",
       "2        1      914       3 2000-12-31 22:32:48\n",
       "3        1     3408       4 2000-12-31 22:04:35\n",
       "4        1     2355       5 2001-01-06 23:38:11"
      ]
     },
     "execution_count": 3,
     "metadata": {},
     "output_type": "execute_result"
    }
   ],
   "source": [
    "df = pd.read_csv(\"ml-1m/ratings.dat\", sep='::', names=['user_id', 'item_id', 'rating', 'timestamp'], engine='python')\n",
    "df['datetime'] = pd.to_datetime(df['timestamp'], unit='s')\n",
    "df.drop('timestamp', axis=1, inplace=True)\n",
    "df.head()"
   ]
  },
  {
   "cell_type": "code",
   "execution_count": 4,
   "id": "4988d476-542e-4a32-9c45-7a16bc2a5db5",
   "metadata": {},
   "outputs": [],
   "source": [
    "value_counts = df['item_id'].value_counts()\n",
    "filtered_values = value_counts[value_counts > 20].index\n",
    "df = df[df['item_id'].isin(filtered_values)].copy()"
   ]
  },
  {
   "cell_type": "code",
   "execution_count": 5,
   "id": "1e05bd3b-ab2f-4c02-9a97-a4153e9550bc",
   "metadata": {},
   "outputs": [
    {
     "data": {
      "text/plain": [
       "((787420, 4), (207432, 4))"
      ]
     },
     "execution_count": 5,
     "metadata": {},
     "output_type": "execute_result"
    }
   ],
   "source": [
    "train_end = '2000-12-01'\n",
    "df_train = df[df['datetime'] < train_end].copy()\n",
    "df_test = df[df['datetime'] >= train_end].copy()\n",
    "df_train.shape, df_test.shape"
   ]
  },
  {
   "cell_type": "code",
   "execution_count": 6,
   "id": "414b8ed7-20d6-4778-9d60-f9c8ccbfa7e3",
   "metadata": {},
   "outputs": [
    {
     "data": {
      "text/plain": [
       "(106471, 4)"
      ]
     },
     "execution_count": 6,
     "metadata": {},
     "output_type": "execute_result"
    }
   ],
   "source": [
    "train_users = df_train['user_id'].unique()\n",
    "train_items = df_train['item_id'].unique()\n",
    "\n",
    "df_test = df_test[df_test['user_id'].isin(train_users)]\n",
    "df_test = df_test[df_test['item_id'].isin(train_items)]\n",
    "df_test.shape"
   ]
  },
  {
   "cell_type": "code",
   "execution_count": 7,
   "id": "19f53d61-990c-4626-a470-7eefd06d2ec7",
   "metadata": {},
   "outputs": [],
   "source": [
    "from sklearn.preprocessing import LabelEncoder\n",
    "\n",
    "user_le = LabelEncoder()\n",
    "item_le = LabelEncoder()\n",
    "\n",
    "df_train['user_id'] = user_le.fit_transform(df_train['user_id'])\n",
    "df_train['item_id'] = item_le.fit_transform(df_train['item_id'])\n",
    "\n",
    "df_test['user_id'] = user_le.transform(df_test['user_id'])\n",
    "df_test['item_id'] = item_le.transform(df_test['item_id'])"
   ]
  },
  {
   "cell_type": "code",
   "execution_count": 8,
   "id": "f4ef3e2f-792d-4511-b4d0-74495d9cb30b",
   "metadata": {},
   "outputs": [
    {
     "data": {
      "text/plain": [
       "(3010, np.int64(3009))"
      ]
     },
     "execution_count": 8,
     "metadata": {},
     "output_type": "execute_result"
    }
   ],
   "source": [
    "df_train['user_id'].nunique(), df_train['user_id'].max()\n",
    "df_train['item_id'].nunique(), df_train['item_id'].max()"
   ]
  },
  {
   "cell_type": "markdown",
   "id": "3d356df8-9157-4752-b30d-dc80aba5e53c",
   "metadata": {},
   "source": [
    "##### Задание 1. Напишем функцию, которая превратит датафрейм в матрицу интеракций. В функции df_to_matrix реализуйте функцию, которая принимает датафрейм и возвращает np.array матрицу интеракций. В функции df_to_coo реализуйте функцию, которая принимает датафрейм и возвращает разреженную матрицу интеракций в coo_array формате"
   ]
  },
  {
   "cell_type": "code",
   "execution_count": 9,
   "id": "d38a7bb7-7f2d-4957-8dac-6397af9b1645",
   "metadata": {},
   "outputs": [],
   "source": [
    "def df_to_matrix(df: pd.DataFrame) -> np.ndarray:\n",
    "    result = df.pivot(index='user_id', columns='item_id', values='rating').fillna(0)\n",
    "    result[list(set(range(result.columns.max() + 1)) - set(result.columns))] = 0.0\n",
    "    return result[list(range(result.columns.max()+1))].to_numpy()"
   ]
  },
  {
   "cell_type": "code",
   "execution_count": 10,
   "id": "55362cbb-5e2d-455b-afd1-8507f1dd51ba",
   "metadata": {},
   "outputs": [],
   "source": [
    "interactions = df_to_matrix(df_train) "
   ]
  },
  {
   "cell_type": "code",
   "execution_count": 11,
   "id": "794b646d-a560-42dd-a466-87cad2589271",
   "metadata": {},
   "outputs": [],
   "source": [
    "from scipy.sparse import coo_array\n",
    "\n",
    "def df_to_coo(df: pd.DataFrame) -> coo_array:\n",
    "    users = df['user_id'].values\n",
    "    items = df['item_id'].values\n",
    "    ratings = df['rating'].values\n",
    "    n_users = df['user_id'].max() + 1\n",
    "    n_items = df['item_id'].max() + 1\n",
    "    return coo_array((ratings, (users, items)), shape=(n_users, n_items))"
   ]
  },
  {
   "cell_type": "code",
   "execution_count": 12,
   "id": "30f9c218-0419-41b2-a112-c2214fad1d99",
   "metadata": {},
   "outputs": [],
   "source": [
    "coo_interactions = df_to_coo(df_train)"
   ]
  },
  {
   "cell_type": "code",
   "execution_count": 13,
   "id": "96b57a7a-0551-4f75-8047-fb9904ac93df",
   "metadata": {},
   "outputs": [],
   "source": [
    "assert (interactions != 0).sum() == df_train.shape[0]\n",
    "assert interactions[0, 2994] == 3\n",
    "assert interactions[2369, 1203] == 5\n",
    "assert interactions[1557, 459] == 3\n",
    "assert np.allclose(coo_interactions.toarray(), interactions)"
   ]
  },
  {
   "cell_type": "markdown",
   "id": "93b3862a-e62a-4ebe-a70c-29102e9f99fd",
   "metadata": {},
   "source": [
    "##### Задание 2.1. Рассмотрим [SVD](https://en.wikipedia.org/wiki/Singular_value_decomposition). Возьмите готовую реализуцию алгоритма из numpy.linalg или из scipy.linalg и примените алгоритм к матрицам интеракций, полученным в первом задании. Для работы со sparse матрицей обычная реализация svd не подойдет и нужно будет воспользоваться scipy.sparse.linalg.svds. Вам нужно разложить матрицу интеракций на 3 матрицы U, S, V, а затем перемножить их и восстановить изначальную матрицу. При полном разложении исходная матрица должна восстанавливаться максимально хорошо"
   ]
  },
  {
   "cell_type": "code",
   "execution_count": 14,
   "id": "eead134a-9aac-4027-b0b8-592de614c3d0",
   "metadata": {},
   "outputs": [],
   "source": [
    "from scipy.sparse.linalg import svds\n",
    "\n",
    "def make_svd(interractions: Union[np.ndarray, coo_array], n_singular_values: int = -1):\n",
    "    # функция должна работать и для полной матрицы и для sparse матрицы(вам поможет isinstance).\n",
    "    # если n_singular_values = -1, то берем все сингулярные числа для полной матрицы\n",
    "    # и все кроме одного сингулярного числа для coo-матрицы(иначе scipy.sparse.linalg.svds не будет работать)\n",
    "\n",
    "\n",
    "    if isinstance(interactions, np.ndarray):\n",
    "        U, S, Vt = np.linalg.svd(interactions, full_matrices=False)\n",
    "        k = len(S) if n_singular_values == -1 else min(n_singular_values, len(S))\n",
    "        S_diag = np.diag(S[:k])\n",
    "        return U[:, :k], S_diag, Vt[:k, :]\n",
    "    else:\n",
    "        m, n = interactions.shape\n",
    "        max_k = min(m, n)\n",
    "        k = max_k if n_singular_values == -1 else min(n_singular_values, max_k)\n",
    "        k = min(k, max_k - 1) if max_k > 1 else 1\n",
    "        U, S, Vt = svds(interactions, k=k)\n",
    "        S = S[::-1]\n",
    "        U = U[:, ::-1]\n",
    "        Vt = Vt[::-1, :]\n",
    "        S_diag = np.diag(S)\n",
    "        return U, S_diag, Vt"
   ]
  },
  {
   "cell_type": "code",
   "execution_count": 15,
   "id": "5c5fecd4-4739-4f6b-9c9c-44bde8b66a34",
   "metadata": {},
   "outputs": [],
   "source": [
    "U, S, V = make_svd(interactions)\n",
    "assert np.allclose(U @ S @ V, interactions)"
   ]
  },
  {
   "cell_type": "code",
   "execution_count": 16,
   "id": "c5a5f59e-3832-4a7d-95b4-856531582bbd",
   "metadata": {},
   "outputs": [],
   "source": [
    "U1, S1, V1 = make_svd(interactions, 10)\n",
    "U, S, V = make_svd(coo_interactions, 10)\n",
    "assert np.allclose(U1 @ S1 @ V1, U @ S @ V)"
   ]
  },
  {
   "cell_type": "markdown",
   "id": "9443daa6-e9f1-414a-8107-5a3016452929",
   "metadata": {},
   "source": [
    "##### Задание 2.2. Теперь попробуем сделать рекомендации с помощью SVD. Мы научились восстанавливать исходную матрицу с помощью разложения, теперь же мы хотим порекомендовать пользователю айтемы, которые будут для него максимально релевантны(в восстановленной матрице у них будет самый высокий скор). Для каждого пользователя нужно будет найти индексы айтемов, которые имеют максимальный скор. При этом стоит обратить внимание, что мы не хотим рекомендовать пользователю айтемы, с которыми он уже взаимодействовал"
   ]
  },
  {
   "cell_type": "code",
   "execution_count": 17,
   "id": "787da18f-48d0-4dfa-b18f-b7e97cc98a4f",
   "metadata": {},
   "outputs": [],
   "source": [
    "def make_svd_recommendations(interactions: Union[np.ndarray, coo_array], n_singular_values: int = -1, top_k: int = 100):\n",
    "    # Возвращает матрицу вида n_users, top_k, то есть для каждого пользователя возвращаем индексы \n",
    "    # top_k самых релевантный айтемов среди тех с которыми он еще не взаимодействовал\n",
    "\n",
    "    U, S, V = make_svd(interactions, n_singular_values)\n",
    "    reconstructed = U @ S @ V\n",
    "\n",
    "    if isinstance(interactions, np.ndarray):\n",
    "        interacted_mask = (interactions != 0)\n",
    "    else:\n",
    "        interacted_mask = interactions.toarray().astype(bool)\n",
    "    scores = np.where(interacted_mask, -np.inf, reconstructed)\n",
    "    recommendations = np.argsort(-scores, axis=1)[:, :top_k]\n",
    "\n",
    "    return recommendations"
   ]
  },
  {
   "cell_type": "code",
   "execution_count": 18,
   "id": "ec72f3dd-c8f2-4434-b84e-ef016c4773a1",
   "metadata": {},
   "outputs": [],
   "source": [
    "recs = make_svd_recommendations(interactions, -1, 100)\n",
    "assert recs.shape == (interactions.shape[0], 100)"
   ]
  },
  {
   "cell_type": "markdown",
   "id": "f5d0b788-855a-4fd9-8cbb-38c0dd289ef5",
   "metadata": {},
   "source": [
    "##### Задание 2.3. Теперь давайте посмотрим как будет зависеть качетво рекомендаций, от количества сингулярных чисел, которые мы возьмем в SVD разложении. Переберите n_singular_values из списка [1, 10, 50, 200, 1000] и посмотрите как будет изменяться метрика NDCG на тестовом датасете для таких рекомендаций и как будет меняться время вычисления. Для каждого графики зависимости метрики NDCG от n_singular_values и времени работы алгоритма от n_singular_values(Время работы будет меняться только для sparse-матрицы, стоит запускать алгоритм именно для нее)"
   ]
  },
  {
   "cell_type": "code",
   "execution_count": 19,
   "id": "5709b821",
   "metadata": {},
   "outputs": [],
   "source": [
    "from sklearn.metrics import ndcg_score\n",
    "\n",
    "\n",
    "def calculate_ndcg(test_df, recommendations, k=100):\n",
    "    test_matrix = df_to_matrix(test_df)\n",
    "    relevance = test_matrix > 0\n",
    "    recommendations = recommendations[df_test.user_id.unique()]\n",
    "    dence_recommendations = np.zeros_like(test_matrix)\n",
    "    for i in range(test_matrix.shape[0]):\n",
    "        dence_recommendations[i, recommendations[i]] = 1.0\n",
    "    \n",
    "    return ndcg_score(relevance, dence_recommendations, k=k)"
   ]
  },
  {
   "cell_type": "code",
   "execution_count": 20,
   "id": "06f931fd-0eb0-4965-9e02-e005ed545c71",
   "metadata": {},
   "outputs": [],
   "source": [
    "import time\n",
    "import matplotlib.pyplot as plt\n",
    "from sklearn.metrics import ndcg_score\n",
    "\n",
    "\n",
    "def plot_graphs(interactions: Union[np.ndarray, coo_array], top_k: int = 100):\n",
    "    n_singular_list = [1, 10, 50, 200, 1000]\n",
    "    ndcg_scores = []\n",
    "    time_log = []\n",
    "\n",
    "    for n_singular in n_singular_list:\n",
    "        start_time = time.time()\n",
    "        recs = make_svd_recommendations(interactions, n_singular, top_k)\n",
    "        elapsed = time.time() - start_time\n",
    "        time_log.append(elapsed)\n",
    "        _ndcg = calculate_ndcg(df_test, recs)\n",
    "        ndcg_scores.append(_ndcg)\n",
    "        print(f\"n_singular={n_singular}, NDCG={ndcg_scores[-1]:.3f}, Time={elapsed:.2f}s\")\n",
    "\n",
    "    plt.figure(figsize=(12, 5))\n",
    "    plt.subplot(1, 2, 1)\n",
    "    plt.plot(n_singular_list, ndcg_scores, marker='o', linestyle='--', color='b')\n",
    "    plt.title('NDCG@100 vs. Singular Values')\n",
    "    plt.xlabel('Number of Singular Values')\n",
    "    plt.ylabel('NDCG')\n",
    "    plt.xscale('log')\n",
    "    plt.grid(True)\n",
    "\n",
    "    plt.subplot(1, 2, 2)\n",
    "    plt.plot(n_singular_list, time_log, marker='o', linestyle='--', color='r')\n",
    "    plt.title('Computation Time vs. Singular Values')\n",
    "    plt.xlabel('Number of Singular Values')\n",
    "    plt.ylabel('Time (s)')\n",
    "    plt.xscale('log')\n",
    "    plt.yscale('log')\n",
    "    plt.grid(True)\n",
    "\n",
    "    plt.tight_layout()\n",
    "    plt.show()\n"
   ]
  },
  {
   "cell_type": "code",
   "execution_count": 21,
   "id": "ee22fe02-b1c2-4fb5-a7b1-0525356fe9f0",
   "metadata": {},
   "outputs": [
    {
     "name": "stdout",
     "output_type": "stream",
     "text": [
      "n_singular=1, NDCG=0.214, Time=28.13s\n",
      "n_singular=10, NDCG=0.241, Time=27.98s\n",
      "n_singular=50, NDCG=0.221, Time=28.64s\n",
      "n_singular=200, NDCG=0.173, Time=28.25s\n",
      "n_singular=1000, NDCG=0.065, Time=28.70s\n"
     ]
    },
    {
     "data": {
      "image/png": "[encoded data removed]",
      "text/plain": [
       "<Figure size 1200x500 with 2 Axes>"
      ]
     },
     "metadata": {},
     "output_type": "display_data"
    }
   ],
   "source": [
    "plot_graphs(interactions)"
   ]
  },
  {
   "cell_type": "markdown",
   "id": "a8612d96-c694-42d6-9525-58808f642577",
   "metadata": {},
   "source": [
    "##### Задание 3.1. Перейдем к [ALS](http://yifanhu.net/PUB/cf.pdf). Возьмем реализацию iALS из библиотеки [implicit](https://benfred.github.io/implicit/api/models/cpu/als.html). Обучите ALS на нашем датасете, сделайте top_k рекомендации для юзеров из тестового датасета, и сравните метрики ALS с метриками, которые получились в SVD. Попробуйте перебрать гиперпараметры и найдите оптимальное число факторов, коэффициент alpha и коэффициент регуляризации."
   ]
  },
  {
   "cell_type": "code",
   "execution_count": 22,
   "id": "b5fb16e9-49d1-4d7e-a384-ccbdad4f1cdf",
   "metadata": {},
   "outputs": [
    {
     "name": "stderr",
     "output_type": "stream",
     "text": [
      "/workspaces/ML_RecSys/.conda/lib/python3.11/site-packages/tqdm/auto.py:21: TqdmWarning: IProgress not found. Please update jupyter and ipywidgets. See https://ipywidgets.readthedocs.io/en/stable/user_install.html\n",
      "  from .autonotebook import tqdm as notebook_tqdm\n"
     ]
    }
   ],
   "source": [
    "from implicit.als import AlternatingLeastSquares\n",
    "from scipy.sparse import csr_matrix\n",
    "import numpy as np\n",
    "\n",
    "\n",
    "def make_als_recommendations(\n",
    "    interactions: Union[np.ndarray, coo_array], \n",
    "    top_k: int = 100, \n",
    "    n_factors: int = 100,\n",
    "    alpha: float = 1.0,\n",
    "    regularization: float = 0.01,\n",
    "):\n",
    "    if isinstance(interactions, np.ndarray):\n",
    "        csr_interactions = csr_matrix(interactions)\n",
    "    elif isinstance(interactions, coo_array):\n",
    "        csr_interactions = interactions.tocsr()\n",
    "    else:\n",
    "        raise TypeError(\"interactions must be np.ndarray or coo_array\")\n",
    "    \n",
    "    model = AlternatingLeastSquares(\n",
    "        factors=n_factors,\n",
    "        regularization=regularization,\n",
    "        iterations=50,\n",
    "        random_state=42\n",
    "    )\n",
    "\n",
    "    model.fit(csr_interactions * alpha)\n",
    "\n",
    "    user_ids = np.arange(csr_interactions.shape[0])\n",
    "    recs, _ = model.recommend(\n",
    "        userid=user_ids,\n",
    "        user_items=csr_interactions,\n",
    "        N=top_k,\n",
    "        filter_already_liked_items=True\n",
    "    )\n",
    "\n",
    "    return recs"
   ]
  },
  {
   "cell_type": "code",
   "execution_count": 23,
   "id": "037a90a8",
   "metadata": {},
   "outputs": [
    {
     "name": "stderr",
     "output_type": "stream",
     "text": [
      "/workspaces/ML_RecSys/.conda/lib/python3.11/site-packages/implicit/cpu/als.py:95: RuntimeWarning: OpenBLAS is configured to use 2 threads. It is highly recommended to disable its internal threadpool by setting the environment variable 'OPENBLAS_NUM_THREADS=1' or by calling 'threadpoolctl.threadpool_limits(1, \"blas\")'. Having OpenBLAS use a threadpool can lead to severe performance issues here.\n",
      "  check_blas_config()\n",
      "100%|██████████| 50/50 [00:14<00:00,  3.33it/s]\n"
     ]
    },
    {
     "name": "stdout",
     "output_type": "stream",
     "text": [
      "ALS NDCG: 0.18321326891912362\n",
      "SVD NDCG: 0.20362154910788785\n"
     ]
    }
   ],
   "source": [
    "als_recs = make_als_recommendations(interactions, n_factors=50, alpha=40, regularization=0.1)\n",
    "svd_recs = make_svd_recommendations(coo_interactions, 100)\n",
    "\n",
    "print(\"ALS NDCG:\", calculate_ndcg(df_test, als_recs))\n",
    "print(\"SVD NDCG:\", calculate_ndcg(df_test, svd_recs))"
   ]
  },
  {
   "cell_type": "code",
   "execution_count": null,
   "id": "776cdbb1",
   "metadata": {},
   "outputs": [
    {
     "name": "stderr",
     "output_type": "stream",
     "text": [
      "100%|██████████| 50/50 [00:14<00:00,  3.41it/s]\n"
     ]
    },
    {
     "name": "stderr",
     "output_type": "stream",
     "text": [
      "100%|██████████| 50/50 [00:14<00:00,  3.40it/s]\n",
      "100%|██████████| 50/50 [00:14<00:00,  3.42it/s]\n",
      "100%|██████████| 50/50 [00:14<00:00,  3.36it/s]\n",
      "100%|██████████| 50/50 [00:14<00:00,  3.38it/s]\n",
      "100%|██████████| 50/50 [00:14<00:00,  3.36it/s]\n",
      "100%|██████████| 50/50 [00:14<00:00,  3.39it/s]\n",
      "100%|██████████| 50/50 [00:14<00:00,  3.34it/s]\n",
      "100%|██████████| 50/50 [00:14<00:00,  3.38it/s]\n",
      "100%|██████████| 50/50 [00:16<00:00,  3.05it/s]\n",
      "100%|██████████| 50/50 [00:16<00:00,  3.01it/s]\n",
      "100%|██████████| 50/50 [00:16<00:00,  2.96it/s]\n",
      "100%|██████████| 50/50 [00:16<00:00,  3.00it/s]\n",
      "100%|██████████| 50/50 [00:16<00:00,  3.01it/s]\n",
      "100%|██████████| 50/50 [00:16<00:00,  3.00it/s]\n",
      "100%|██████████| 50/50 [00:16<00:00,  3.02it/s]\n",
      "100%|██████████| 50/50 [00:16<00:00,  3.00it/s]\n",
      "100%|██████████| 50/50 [00:16<00:00,  2.99it/s]\n",
      "100%|██████████| 50/50 [01:09<00:00,  1.40s/it]\n",
      "100%|██████████| 50/50 [01:11<00:00,  1.42s/it]\n",
      " 58%|█████▊    | 29/50 [00:42<00:27,  1.33s/it]"
     ]
    }
   ],
   "source": [
    "best_ndcg = 0\n",
    "best_params = {}\n",
    "\n",
    "for factors in [50, 100, 200]:\n",
    "    for alpha in [1, 10, 40]:\n",
    "        for reg in [0.01, 0.1, 1.0]:\n",
    "            recs = make_als_recommendations(\n",
    "                interactions,\n",
    "                n_factors=factors,\n",
    "                alpha=alpha,\n",
    "                regularization=reg\n",
    "            )\n",
    "            current_ndcg = calculate_ndcg(df_test, recs)\n",
    "\n",
    "            if current_ndcg > best_ndcg:\n",
    "                best_ndcg = current_ndcg\n",
    "                best_params = {\n",
    "                    'factors': factors,\n",
    "                    'alpha': alpha,\n",
    "                    'regularization': reg\n",
    "                }\n",
    "\n",
    "print(f\"Best NDCG: {best_ndcg:.4f}, Params: {best_params}\")"
   ]
  },
  {
   "cell_type": "code",
   "execution_count": null,
   "id": "b5573d01-8512-450f-9260-03928ee9b367",
   "metadata": {},
   "outputs": [
    {
     "name": "stderr",
     "output_type": "stream",
     "text": [
      "100%|██████████| 50/50 [00:16<00:00,  2.97it/s]\n"
     ]
    }
   ],
   "source": [
    "recs = make_als_recommendations(interactions)\n",
    "assert recs.shape == (interactions.shape[0], 100)"
   ]
  },
  {
   "cell_type": "markdown",
   "id": "81f3b1cc-760b-4d6a-ab8a-aca57b7b6dfe",
   "metadata": {},
   "source": [
    "##### Задание 3.2. Сделайте объяснение рекомендаций для нескольких юзеров(als.explain). Воспользуйтесь файлом movies.dat чтобы перейти от индексов фильмов к их названием"
   ]
  },
  {
   "cell_type": "code",
   "execution_count": null,
   "id": "ddd9a956-d2f5-4560-8d0c-c72164ebdfa8",
   "metadata": {},
   "outputs": [],
   "source": [
    "movies = pd.read_csv(\n",
    "    \"ml-1m/movies.dat\", \n",
    "    sep=\"::\", \n",
    "    names=[\"item_id\", \"title\", \"genres\"], \n",
    "    encoding=\"latin1\",\n",
    "    engine=\"python\"\n",
    ")\n",
    "item_id_to_title = movies.set_index(\"item_id\")[\"title\"].to_dict()"
   ]
  },
  {
   "cell_type": "code",
   "execution_count": null,
   "id": "a6c3d896",
   "metadata": {},
   "outputs": [],
   "source": [
    "original_item_ids = movies[\"item_id\"].unique()"
   ]
  },
  {
   "cell_type": "code",
   "execution_count": null,
   "id": "de3ac3cb",
   "metadata": {},
   "outputs": [
    {
     "data": {
      "text/html": [
       "<style>#sk-container-id-2 {\n",
       "  /* Definition of color scheme common for light and dark mode */\n",
       "  --sklearn-color-text: #000;\n",
       "  --sklearn-color-text-muted: #666;\n",
       "  --sklearn-color-line: gray;\n",
       "  /* Definition of color scheme for unfitted estimators */\n",
       "  --sklearn-color-unfitted-level-0: #fff5e6;\n",
       "  --sklearn-color-unfitted-level-1: #f6e4d2;\n",
       "  --sklearn-color-unfitted-level-2: #ffe0b3;\n",
       "  --sklearn-color-unfitted-level-3: chocolate;\n",
       "  /* Definition of color scheme for fitted estimators */\n",
       "  --sklearn-color-fitted-level-0: #f0f8ff;\n",
       "  --sklearn-color-fitted-level-1: #d4ebff;\n",
       "  --sklearn-color-fitted-level-2: #b3dbfd;\n",
       "  --sklearn-color-fitted-level-3: cornflowerblue;\n",
       "\n",
       "  /* Specific color for light theme */\n",
       "  --sklearn-color-text-on-default-background: var(--sg-text-color, var(--theme-code-foreground, var(--jp-content-font-color1, black)));\n",
       "  --sklearn-color-background: var(--sg-background-color, var(--theme-background, var(--jp-layout-color0, white)));\n",
       "  --sklearn-color-border-box: var(--sg-text-color, var(--theme-code-foreground, var(--jp-content-font-color1, black)));\n",
       "  --sklearn-color-icon: #696969;\n",
       "\n",
       "  @media (prefers-color-scheme: dark) {\n",
       "    /* Redefinition of color scheme for dark theme */\n",
       "    --sklearn-color-text-on-default-background: var(--sg-text-color, var(--theme-code-foreground, var(--jp-content-font-color1, white)));\n",
       "    --sklearn-color-background: var(--sg-background-color, var(--theme-background, var(--jp-layout-color0, #111)));\n",
       "    --sklearn-color-border-box: var(--sg-text-color, var(--theme-code-foreground, var(--jp-content-font-color1, white)));\n",
       "    --sklearn-color-icon: #878787;\n",
       "  }\n",
       "}\n",
       "\n",
       "#sk-container-id-2 {\n",
       "  color: var(--sklearn-color-text);\n",
       "}\n",
       "\n",
       "#sk-container-id-2 pre {\n",
       "  padding: 0;\n",
       "}\n",
       "\n",
       "#sk-container-id-2 input.sk-hidden--visually {\n",
       "  border: 0;\n",
       "  clip: rect(1px 1px 1px 1px);\n",
       "  clip: rect(1px, 1px, 1px, 1px);\n",
       "  height: 1px;\n",
       "  margin: -1px;\n",
       "  overflow: hidden;\n",
       "  padding: 0;\n",
       "  position: absolute;\n",
       "  width: 1px;\n",
       "}\n",
       "\n",
       "#sk-container-id-2 div.sk-dashed-wrapped {\n",
       "  border: 1px dashed var(--sklearn-color-line);\n",
       "  margin: 0 0.4em 0.5em 0.4em;\n",
       "  box-sizing: border-box;\n",
       "  padding-bottom: 0.4em;\n",
       "  background-color: var(--sklearn-color-background);\n",
       "}\n",
       "\n",
       "#sk-container-id-2 div.sk-container {\n",
       "  /* jupyter's `normalize.less` sets `[hidden] { display: none; }`\n",
       "     but bootstrap.min.css set `[hidden] { display: none !important; }`\n",
       "     so we also need the `!important` here to be able to override the\n",
       "     default hidden behavior on the sphinx rendered scikit-learn.org.\n",
       "     See: https://github.com/scikit-learn/scikit-learn/issues/21755 */\n",
       "  display: inline-block !important;\n",
       "  position: relative;\n",
       "}\n",
       "\n",
       "#sk-container-id-2 div.sk-text-repr-fallback {\n",
       "  display: none;\n",
       "}\n",
       "\n",
       "div.sk-parallel-item,\n",
       "div.sk-serial,\n",
       "div.sk-item {\n",
       "  /* draw centered vertical line to link estimators */\n",
       "  background-image: linear-gradient(var(--sklearn-color-text-on-default-background), var(--sklearn-color-text-on-default-background));\n",
       "  background-size: 2px 100%;\n",
       "  background-repeat: no-repeat;\n",
       "  background-position: center center;\n",
       "}\n",
       "\n",
       "/* Parallel-specific style estimator block */\n",
       "\n",
       "#sk-container-id-2 div.sk-parallel-item::after {\n",
       "  content: \"\";\n",
       "  width: 100%;\n",
       "  border-bottom: 2px solid var(--sklearn-color-text-on-default-background);\n",
       "  flex-grow: 1;\n",
       "}\n",
       "\n",
       "#sk-container-id-2 div.sk-parallel {\n",
       "  display: flex;\n",
       "  align-items: stretch;\n",
       "  justify-content: center;\n",
       "  background-color: var(--sklearn-color-background);\n",
       "  position: relative;\n",
       "}\n",
       "\n",
       "#sk-container-id-2 div.sk-parallel-item {\n",
       "  display: flex;\n",
       "  flex-direction: column;\n",
       "}\n",
       "\n",
       "#sk-container-id-2 div.sk-parallel-item:first-child::after {\n",
       "  align-self: flex-end;\n",
       "  width: 50%;\n",
       "}\n",
       "\n",
       "#sk-container-id-2 div.sk-parallel-item:last-child::after {\n",
       "  align-self: flex-start;\n",
       "  width: 50%;\n",
       "}\n",
       "\n",
       "#sk-container-id-2 div.sk-parallel-item:only-child::after {\n",
       "  width: 0;\n",
       "}\n",
       "\n",
       "/* Serial-specific style estimator block */\n",
       "\n",
       "#sk-container-id-2 div.sk-serial {\n",
       "  display: flex;\n",
       "  flex-direction: column;\n",
       "  align-items: center;\n",
       "  background-color: var(--sklearn-color-background);\n",
       "  padding-right: 1em;\n",
       "  padding-left: 1em;\n",
       "}\n",
       "\n",
       "\n",
       "/* Toggleable style: style used for estimator/Pipeline/ColumnTransformer box that is\n",
       "clickable and can be expanded/collapsed.\n",
       "- Pipeline and ColumnTransformer use this feature and define the default style\n",
       "- Estimators will overwrite some part of the style using the `sk-estimator` class\n",
       "*/\n",
       "\n",
       "/* Pipeline and ColumnTransformer style (default) */\n",
       "\n",
       "#sk-container-id-2 div.sk-toggleable {\n",
       "  /* Default theme specific background. It is overwritten whether we have a\n",
       "  specific estimator or a Pipeline/ColumnTransformer */\n",
       "  background-color: var(--sklearn-color-background);\n",
       "}\n",
       "\n",
       "/* Toggleable label */\n",
       "#sk-container-id-2 label.sk-toggleable__label {\n",
       "  cursor: pointer;\n",
       "  display: flex;\n",
       "  width: 100%;\n",
       "  margin-bottom: 0;\n",
       "  padding: 0.5em;\n",
       "  box-sizing: border-box;\n",
       "  text-align: center;\n",
       "  align-items: start;\n",
       "  justify-content: space-between;\n",
       "  gap: 0.5em;\n",
       "}\n",
       "\n",
       "#sk-container-id-2 label.sk-toggleable__label .caption {\n",
       "  font-size: 0.6rem;\n",
       "  font-weight: lighter;\n",
       "  color: var(--sklearn-color-text-muted);\n",
       "}\n",
       "\n",
       "#sk-container-id-2 label.sk-toggleable__label-arrow:before {\n",
       "  /* Arrow on the left of the label */\n",
       "  content: \"▸\";\n",
       "  float: left;\n",
       "  margin-right: 0.25em;\n",
       "  color: var(--sklearn-color-icon);\n",
       "}\n",
       "\n",
       "#sk-container-id-2 label.sk-toggleable__label-arrow:hover:before {\n",
       "  color: var(--sklearn-color-text);\n",
       "}\n",
       "\n",
       "/* Toggleable content - dropdown */\n",
       "\n",
       "#sk-container-id-2 div.sk-toggleable__content {\n",
       "  max-height: 0;\n",
       "  max-width: 0;\n",
       "  overflow: hidden;\n",
       "  text-align: left;\n",
       "  /* unfitted */\n",
       "  background-color: var(--sklearn-color-unfitted-level-0);\n",
       "}\n",
       "\n",
       "#sk-container-id-2 div.sk-toggleable__content.fitted {\n",
       "  /* fitted */\n",
       "  background-color: var(--sklearn-color-fitted-level-0);\n",
       "}\n",
       "\n",
       "#sk-container-id-2 div.sk-toggleable__content pre {\n",
       "  margin: 0.2em;\n",
       "  border-radius: 0.25em;\n",
       "  color: var(--sklearn-color-text);\n",
       "  /* unfitted */\n",
       "  background-color: var(--sklearn-color-unfitted-level-0);\n",
       "}\n",
       "\n",
       "#sk-container-id-2 div.sk-toggleable__content.fitted pre {\n",
       "  /* unfitted */\n",
       "  background-color: var(--sklearn-color-fitted-level-0);\n",
       "}\n",
       "\n",
       "#sk-container-id-2 input.sk-toggleable__control:checked~div.sk-toggleable__content {\n",
       "  /* Expand drop-down */\n",
       "  max-height: 200px;\n",
       "  max-width: 100%;\n",
       "  overflow: auto;\n",
       "}\n",
       "\n",
       "#sk-container-id-2 input.sk-toggleable__control:checked~label.sk-toggleable__label-arrow:before {\n",
       "  content: \"▾\";\n",
       "}\n",
       "\n",
       "/* Pipeline/ColumnTransformer-specific style */\n",
       "\n",
       "#sk-container-id-2 div.sk-label input.sk-toggleable__control:checked~label.sk-toggleable__label {\n",
       "  color: var(--sklearn-color-text);\n",
       "  background-color: var(--sklearn-color-unfitted-level-2);\n",
       "}\n",
       "\n",
       "#sk-container-id-2 div.sk-label.fitted input.sk-toggleable__control:checked~label.sk-toggleable__label {\n",
       "  background-color: var(--sklearn-color-fitted-level-2);\n",
       "}\n",
       "\n",
       "/* Estimator-specific style */\n",
       "\n",
       "/* Colorize estimator box */\n",
       "#sk-container-id-2 div.sk-estimator input.sk-toggleable__control:checked~label.sk-toggleable__label {\n",
       "  /* unfitted */\n",
       "  background-color: var(--sklearn-color-unfitted-level-2);\n",
       "}\n",
       "\n",
       "#sk-container-id-2 div.sk-estimator.fitted input.sk-toggleable__control:checked~label.sk-toggleable__label {\n",
       "  /* fitted */\n",
       "  background-color: var(--sklearn-color-fitted-level-2);\n",
       "}\n",
       "\n",
       "#sk-container-id-2 div.sk-label label.sk-toggleable__label,\n",
       "#sk-container-id-2 div.sk-label label {\n",
       "  /* The background is the default theme color */\n",
       "  color: var(--sklearn-color-text-on-default-background);\n",
       "}\n",
       "\n",
       "/* On hover, darken the color of the background */\n",
       "#sk-container-id-2 div.sk-label:hover label.sk-toggleable__label {\n",
       "  color: var(--sklearn-color-text);\n",
       "  background-color: var(--sklearn-color-unfitted-level-2);\n",
       "}\n",
       "\n",
       "/* Label box, darken color on hover, fitted */\n",
       "#sk-container-id-2 div.sk-label.fitted:hover label.sk-toggleable__label.fitted {\n",
       "  color: var(--sklearn-color-text);\n",
       "  background-color: var(--sklearn-color-fitted-level-2);\n",
       "}\n",
       "\n",
       "/* Estimator label */\n",
       "\n",
       "#sk-container-id-2 div.sk-label label {\n",
       "  font-family: monospace;\n",
       "  font-weight: bold;\n",
       "  display: inline-block;\n",
       "  line-height: 1.2em;\n",
       "}\n",
       "\n",
       "#sk-container-id-2 div.sk-label-container {\n",
       "  text-align: center;\n",
       "}\n",
       "\n",
       "/* Estimator-specific */\n",
       "#sk-container-id-2 div.sk-estimator {\n",
       "  font-family: monospace;\n",
       "  border: 1px dotted var(--sklearn-color-border-box);\n",
       "  border-radius: 0.25em;\n",
       "  box-sizing: border-box;\n",
       "  margin-bottom: 0.5em;\n",
       "  /* unfitted */\n",
       "  background-color: var(--sklearn-color-unfitted-level-0);\n",
       "}\n",
       "\n",
       "#sk-container-id-2 div.sk-estimator.fitted {\n",
       "  /* fitted */\n",
       "  background-color: var(--sklearn-color-fitted-level-0);\n",
       "}\n",
       "\n",
       "/* on hover */\n",
       "#sk-container-id-2 div.sk-estimator:hover {\n",
       "  /* unfitted */\n",
       "  background-color: var(--sklearn-color-unfitted-level-2);\n",
       "}\n",
       "\n",
       "#sk-container-id-2 div.sk-estimator.fitted:hover {\n",
       "  /* fitted */\n",
       "  background-color: var(--sklearn-color-fitted-level-2);\n",
       "}\n",
       "\n",
       "/* Specification for estimator info (e.g. \"i\" and \"?\") */\n",
       "\n",
       "/* Common style for \"i\" and \"?\" */\n",
       "\n",
       ".sk-estimator-doc-link,\n",
       "a:link.sk-estimator-doc-link,\n",
       "a:visited.sk-estimator-doc-link {\n",
       "  float: right;\n",
       "  font-size: smaller;\n",
       "  line-height: 1em;\n",
       "  font-family: monospace;\n",
       "  background-color: var(--sklearn-color-background);\n",
       "  border-radius: 1em;\n",
       "  height: 1em;\n",
       "  width: 1em;\n",
       "  text-decoration: none !important;\n",
       "  margin-left: 0.5em;\n",
       "  text-align: center;\n",
       "  /* unfitted */\n",
       "  border: var(--sklearn-color-unfitted-level-1) 1pt solid;\n",
       "  color: var(--sklearn-color-unfitted-level-1);\n",
       "}\n",
       "\n",
       ".sk-estimator-doc-link.fitted,\n",
       "a:link.sk-estimator-doc-link.fitted,\n",
       "a:visited.sk-estimator-doc-link.fitted {\n",
       "  /* fitted */\n",
       "  border: var(--sklearn-color-fitted-level-1) 1pt solid;\n",
       "  color: var(--sklearn-color-fitted-level-1);\n",
       "}\n",
       "\n",
       "/* On hover */\n",
       "div.sk-estimator:hover .sk-estimator-doc-link:hover,\n",
       ".sk-estimator-doc-link:hover,\n",
       "div.sk-label-container:hover .sk-estimator-doc-link:hover,\n",
       ".sk-estimator-doc-link:hover {\n",
       "  /* unfitted */\n",
       "  background-color: var(--sklearn-color-unfitted-level-3);\n",
       "  color: var(--sklearn-color-background);\n",
       "  text-decoration: none;\n",
       "}\n",
       "\n",
       "div.sk-estimator.fitted:hover .sk-estimator-doc-link.fitted:hover,\n",
       ".sk-estimator-doc-link.fitted:hover,\n",
       "div.sk-label-container:hover .sk-estimator-doc-link.fitted:hover,\n",
       ".sk-estimator-doc-link.fitted:hover {\n",
       "  /* fitted */\n",
       "  background-color: var(--sklearn-color-fitted-level-3);\n",
       "  color: var(--sklearn-color-background);\n",
       "  text-decoration: none;\n",
       "}\n",
       "\n",
       "/* Span, style for the box shown on hovering the info icon */\n",
       ".sk-estimator-doc-link span {\n",
       "  display: none;\n",
       "  z-index: 9999;\n",
       "  position: relative;\n",
       "  font-weight: normal;\n",
       "  right: .2ex;\n",
       "  padding: .5ex;\n",
       "  margin: .5ex;\n",
       "  width: min-content;\n",
       "  min-width: 20ex;\n",
       "  max-width: 50ex;\n",
       "  color: var(--sklearn-color-text);\n",
       "  box-shadow: 2pt 2pt 4pt #999;\n",
       "  /* unfitted */\n",
       "  background: var(--sklearn-color-unfitted-level-0);\n",
       "  border: .5pt solid var(--sklearn-color-unfitted-level-3);\n",
       "}\n",
       "\n",
       ".sk-estimator-doc-link.fitted span {\n",
       "  /* fitted */\n",
       "  background: var(--sklearn-color-fitted-level-0);\n",
       "  border: var(--sklearn-color-fitted-level-3);\n",
       "}\n",
       "\n",
       ".sk-estimator-doc-link:hover span {\n",
       "  display: block;\n",
       "}\n",
       "\n",
       "/* \"?\"-specific style due to the `<a>` HTML tag */\n",
       "\n",
       "#sk-container-id-2 a.estimator_doc_link {\n",
       "  float: right;\n",
       "  font-size: 1rem;\n",
       "  line-height: 1em;\n",
       "  font-family: monospace;\n",
       "  background-color: var(--sklearn-color-background);\n",
       "  border-radius: 1rem;\n",
       "  height: 1rem;\n",
       "  width: 1rem;\n",
       "  text-decoration: none;\n",
       "  /* unfitted */\n",
       "  color: var(--sklearn-color-unfitted-level-1);\n",
       "  border: var(--sklearn-color-unfitted-level-1) 1pt solid;\n",
       "}\n",
       "\n",
       "#sk-container-id-2 a.estimator_doc_link.fitted {\n",
       "  /* fitted */\n",
       "  border: var(--sklearn-color-fitted-level-1) 1pt solid;\n",
       "  color: var(--sklearn-color-fitted-level-1);\n",
       "}\n",
       "\n",
       "/* On hover */\n",
       "#sk-container-id-2 a.estimator_doc_link:hover {\n",
       "  /* unfitted */\n",
       "  background-color: var(--sklearn-color-unfitted-level-3);\n",
       "  color: var(--sklearn-color-background);\n",
       "  text-decoration: none;\n",
       "}\n",
       "\n",
       "#sk-container-id-2 a.estimator_doc_link.fitted:hover {\n",
       "  /* fitted */\n",
       "  background-color: var(--sklearn-color-fitted-level-3);\n",
       "}\n",
       "</style><div id=\"sk-container-id-2\" class=\"sk-top-container\"><div class=\"sk-text-repr-fallback\"><pre>LabelEncoder()</pre><b>In a Jupyter environment, please rerun this cell to show the HTML representation or trust the notebook. <br />On GitHub, the HTML representation is unable to render, please try loading this page with nbviewer.org.</b></div><div class=\"sk-container\" hidden><div class=\"sk-item\"><div class=\"sk-estimator fitted sk-toggleable\"><input class=\"sk-toggleable__control sk-hidden--visually\" id=\"sk-estimator-id-2\" type=\"checkbox\" checked><label for=\"sk-estimator-id-2\" class=\"sk-toggleable__label fitted sk-toggleable__label-arrow\"><div><div>LabelEncoder</div></div><div><a class=\"sk-estimator-doc-link fitted\" rel=\"noreferrer\" target=\"_blank\" href=\"https://scikit-learn.org/1.6/modules/generated/sklearn.preprocessing.LabelEncoder.html\">?<span>Documentation for LabelEncoder</span></a><span class=\"sk-estimator-doc-link fitted\">i<span>Fitted</span></span></div></label><div class=\"sk-toggleable__content fitted\"><pre>LabelEncoder()</pre></div> </div></div></div></div>"
      ],
      "text/plain": [
       "LabelEncoder()"
      ]
     },
     "execution_count": 124,
     "metadata": {},
     "output_type": "execute_result"
    }
   ],
   "source": [
    "item_le.fit(original_item_ids)"
   ]
  },
  {
   "cell_type": "code",
   "execution_count": null,
   "id": "9edf3bca",
   "metadata": {},
   "outputs": [],
   "source": [
    "def explain_recommendations(\n",
    "    user_id: int,\n",
    "    model: AlternatingLeastSquares,\n",
    "    interactions: csr_matrix,\n",
    "    item_id_to_title: dict,\n",
    "    top_n_recommendations: int = 3,\n",
    "    top_n_contributions: int = 5\n",
    "):\n",
    "    recommended_items, _ = model.recommend(\n",
    "        userid=[user_id],\n",
    "        user_items=interactions[user_id],\n",
    "        N=top_n_recommendations,\n",
    "        filter_already_liked_items=True\n",
    "    )\n",
    "\n",
    "    user_history = interactions[user_id].indices\n",
    "    history = [\n",
    "        item_id_to_title[item_le.inverse_transform([i])[0]] \n",
    "        for i in user_history\n",
    "    ]\n",
    "\n",
    "    explanations = []\n",
    "    for item_idx in recommended_items[0]:\n",
    "        total_score, contributions, _ = model.explain(\n",
    "            userid=user_id,\n",
    "            user_items=interactions,\n",
    "            itemid=item_idx,\n",
    "            N=top_n_contributions\n",
    "        )\n",
    "\n",
    "        contribution_details = []\n",
    "        for contrib_item_idx, score in contributions:\n",
    "            original_id = item_le.inverse_transform([contrib_item_idx])[0]\n",
    "            contribution_details.append({\n",
    "                \"title\": item_id_to_title[original_id],\n",
    "                \"score\": float(score)\n",
    "            })\n",
    "\n",
    "        original_item_id = item_le.inverse_transform([item_idx])[0]\n",
    "        explanations.append({\n",
    "            \"recommended_movie\": item_id_to_title[original_item_id],\n",
    "            \"score\": float(total_score),\n",
    "            \"contributions\": contribution_details\n",
    "        })\n",
    "\n",
    "    return history, explanations"
   ]
  },
  {
   "cell_type": "code",
   "execution_count": null,
   "id": "78594960",
   "metadata": {},
   "outputs": [
    {
     "name": "stdout",
     "output_type": "stream",
     "text": [
      "=== Пользователь 42 ===\n",
      "\n",
      "История просмотров:\n",
      "- Toy Story (1995)\n",
      "- GoldenEye (1995)\n",
      "- Get Shorty (1995)\n",
      "- Twelve Monkeys (1995)\n",
      "- Pocahontas (1995)\n",
      "\n",
      "Объяснения рекомендаций:\n",
      "\n",
      "Рекомендация: Your Friends and Neighbors (1998) (общий скор: 0.68)\n",
      "Вклад айтемов:\n",
      "- Pet Sematary II (1992): 0.04\n",
      "- Beavis and Butt-head Do America (1996): 0.03\n",
      "- Character (Karakter) (1997): 0.03\n",
      "- Three Colors: White (1994): 0.03\n",
      "- Splash (1984): 0.03\n",
      "\n",
      "Рекомендация: Beyond Silence (1996) (общий скор: 0.75)\n",
      "Вклад айтемов:\n",
      "- Rock, The (1996): 0.03\n",
      "- King and I, The (1999): 0.03\n",
      "- Atlantic City (1980): 0.02\n",
      "- Character (Karakter) (1997): 0.02\n",
      "- Velvet Goldmine (1998): 0.02\n",
      "\n",
      "Рекомендация: 10 Things I Hate About You (1999) (общий скор: 0.68)\n",
      "Вклад айтемов:\n",
      "- Jules and Jim (Jules et Jim) (1961): 0.05\n",
      "- Illuminata (1998): 0.05\n",
      "- Iron Eagle II (1988): 0.05\n",
      "- Idle Hands (1999): 0.03\n",
      "- Inspector General, The (1949): 0.03\n",
      "=== Пользователь 100 ===\n",
      "\n",
      "История просмотров:\n",
      "- Toy Story (1995)\n",
      "- Grumpier Old Men (1995)\n",
      "- Sabrina (1995)\n",
      "- American President, The (1995)\n",
      "- Cutthroat Island (1995)\n",
      "\n",
      "Объяснения рекомендаций:\n",
      "\n",
      "Рекомендация: G.I. Jane (1997) (общий скор: 0.50)\n",
      "Вклад айтемов:\n",
      "- Bulletproof (1996): 0.02\n",
      "- Blackmail (1929): 0.02\n",
      "- E.T. the Extra-Terrestrial (1982): 0.02\n",
      "- Red Sonja (1985): 0.02\n",
      "- Morning After, The (1986): 0.02\n",
      "\n",
      "Рекомендация: She's the One (1996) (общий скор: 0.45)\n",
      "Вклад айтемов:\n",
      "- North (1994): 0.02\n",
      "- My Fair Lady (1964): 0.02\n",
      "- I Don't Want to Talk About It (De eso no se habla) (1993): 0.02\n",
      "- Prom Night (1980): 0.02\n",
      "- Crows and Sparrows (1949): 0.02\n",
      "\n",
      "Рекомендация: Vermont Is For Lovers (1992) (общий скор: 0.58)\n",
      "Вклад айтемов:\n",
      "- Blood Beach (1981): 0.04\n",
      "- Philadelphia (1993): 0.04\n",
      "- Judgment Night (1993): 0.03\n",
      "- Cavalcade (1933): 0.02\n",
      "- Nightmares (1983): 0.02\n",
      "=== Пользователь 777 ===\n",
      "\n",
      "История просмотров:\n",
      "- Toy Story (1995)\n",
      "- Heat (1995)\n",
      "- Money Train (1995)\n",
      "- Get Shorty (1995)\n",
      "- Copycat (1995)\n",
      "\n",
      "Объяснения рекомендаций:\n",
      "\n",
      "Рекомендация: American in Paris, An (1951) (общий скор: 0.87)\n",
      "Вклад айтемов:\n",
      "- Philadelphia (1993): 0.05\n",
      "- Nightmares (1983): 0.04\n",
      "- Thing, The (1982): 0.03\n",
      "- Last Time I Saw Paris, The (1954): 0.03\n",
      "- Man from Down Under, The (1943): 0.02\n",
      "\n",
      "Рекомендация: Black Dog (1998) (общий скор: 0.88)\n",
      "Вклад айтемов:\n",
      "- Goofy Movie, A (1995): 0.03\n",
      "- Cool Dry Place, A (1998): 0.02\n",
      "- Madeline (1998): 0.02\n",
      "- American Werewolf in London, An (1981): 0.02\n",
      "- Legend (1985): 0.02\n",
      "\n",
      "Рекомендация: Allnighter, The (1987) (общий скор: 0.70)\n",
      "Вклад айтемов:\n",
      "- Among Giants (1998): 0.02\n",
      "- 200 Cigarettes (1999): 0.02\n",
      "- Ghostbusters II (1989): 0.02\n",
      "- Gridlock'd (1997): 0.02\n",
      "- Licence to Kill (1989): 0.02\n"
     ]
    }
   ],
   "source": [
    "user_ids = [42, 100, 777]\n",
    "\n",
    "for user_id in user_ids:\n",
    "    history, explanations = explain_recommendations(user_id, model, csr_interactions, item_id_to_title)\n",
    "\n",
    "    print(f\"=== Пользователь {user_id} ===\")\n",
    "    print(\"\\nИстория просмотров:\")\n",
    "    for movie in history[:5]:\n",
    "        print(f\"- {movie}\")\n",
    "\n",
    "    print(\"\\nОбъяснения рекомендаций:\")\n",
    "    for exp in explanations:\n",
    "        print(f\"\\nРекомендация: {exp['recommended_movie']} (общий скор: {exp['score']:.2f})\")\n",
    "        print(\"Вклад айтемов:\")\n",
    "        for contrib in exp['contributions']:\n",
    "            print(f\"- {contrib['title']}: {contrib['score']:.2f}\")"
   ]
  },
  {
   "cell_type": "markdown",
   "id": "d7d7ea0c-8288-45f5-83d4-9761a8952669",
   "metadata": {},
   "source": [
    "##### Задание 4. До этого мы работали с рейтингами, но как обсуждалось на лекции, implicit ALS отлично работает и с implicit фидбэком. Давайте попробуем преобразовать наш датасет(трейн и тест) следующим образом\n",
    "\n",
    "1. Бинаризуем все рейтинги(заменим любую интеракцию пользователя на 1)\n",
    "2. Заменим на 1 только рейтинги 4 и 5, а рейтинг ниже 4 заменим на 0\n",
    "3. Заменим на 1 только рейтинги 4 и 5, а рейтинг ниже 4 заменим на -1\n",
    "4. Заменим на 1 только рейтинги 4 и 5, а рейтинг ниже 4 заменим на -1 и добавим сглаживание по времени. То есть чем дальше была интеракция от максимальной даты трейна, тем с меньшим весом мы будем ее учитывать(например можно интеракции за последний месяц брать в исходном виде, и с каждым месяцем в прошлое умножать их на какой-нибудь коэффициент меньший 1). Таким образом более старые интеракции пользователя будут вносить меньший вклад в его интересы\n",
    "5. Придумайте свой вариант(опционально)\n",
    "\n",
    "Для каждой полученной матрицы обучите iALS и SVD и сравните их результаты между собой(преобразовывать нужно только обучающую выборку, тестовую оставляем неизменной)"
   ]
  },
  {
   "cell_type": "code",
   "execution_count": null,
   "id": "c839fd09-eca4-43e0-a209-2da63775f79f",
   "metadata": {},
   "outputs": [],
   "source": [
    "from scipy.sparse import coo_matrix\n",
    "\n",
    "\n",
    "def transform_binary_all(ratings: np.ndarray) -> np.ndarray:\n",
    "    return np.where(ratings != 0, 1, 0)\n",
    "\n",
    "def transform_binary_4plus(ratings: np.ndarray) -> np.ndarray:\n",
    "    return np.where(ratings >= 4, 1, 0)\n",
    "\n",
    "def transform_signed(ratings: np.ndarray) -> np.ndarray:\n",
    "    return np.where(ratings >= 4, 1, -1)\n",
    "\n",
    "def transform_signed_time_decay(df: pd.DataFrame, decay_rate: float = 0.1) -> np.ndarray:\n",
    "    _signed = np.where(df[\"rating\"] >= 4, 1, -1)\n",
    "\n",
    "    max_time = df[\"datetime\"].max()\n",
    "    delta_days = (max_time - df[\"datetime\"]).dt.days\n",
    "    decay = np.exp(-decay_rate * delta_days)\n",
    "\n",
    "    return _signed * decay\n"
   ]
  },
  {
   "cell_type": "code",
   "execution_count": null,
   "id": "a4336b9e",
   "metadata": {},
   "outputs": [
    {
     "name": "stderr",
     "output_type": "stream",
     "text": [
      "100%|██████████| 50/50 [00:13<00:00,  3.61it/s]\n"
     ]
    }
   ],
   "source": [
    "results = {}\n",
    "\n",
    "# 1\n",
    "df_train_binary_all = df_train.copy()\n",
    "df_train_binary_all['rating'] = transform_binary_all(df_train[\"rating\"].values)\n",
    "interactions_binary_all = df_to_matrix(df_train_binary_all)\n",
    "coo_interactions_binary_all = df_to_coo(df_train_binary_all)\n",
    "\n",
    "svd_recs = make_svd_recommendations(coo_interactions_binary_all, 100)\n",
    "results[\"binary_all_svd\"] = calculate_ndcg(df_test, svd_recs)\n",
    "als_recs = make_als_recommendations(interactions_binary_all, alpha=1.0)\n",
    "results[\"binary_all_als\"] = calculate_ndcg(df_test, als_recs)"
   ]
  },
  {
   "cell_type": "code",
   "execution_count": null,
   "id": "0290793d",
   "metadata": {},
   "outputs": [
    {
     "name": "stderr",
     "output_type": "stream",
     "text": [
      "100%|██████████| 50/50 [00:10<00:00,  4.87it/s]\n"
     ]
    }
   ],
   "source": [
    "# 2\n",
    "df_train_binary_4plus = df_train.copy()\n",
    "df_train_binary_4plus['rating'] = transform_binary_4plus(df_train[\"rating\"].values)\n",
    "interactions_binary_4plus = df_to_matrix(df_train_binary_4plus)\n",
    "coo_interactions_binary_4plus = df_to_coo(df_train_binary_4plus)\n",
    "\n",
    "svd_recs = make_svd_recommendations(coo_interactions_binary_4plus, 100)\n",
    "results[\"binary_4plus_svd\"] = calculate_ndcg(df_test, svd_recs)\n",
    "als_recs = make_als_recommendations(interactions_binary_4plus, alpha=1.0)\n",
    "results[\"binary_4plus_als\"] = calculate_ndcg(df_test, als_recs)"
   ]
  },
  {
   "cell_type": "code",
   "execution_count": null,
   "id": "6d7fb34a",
   "metadata": {},
   "outputs": [
    {
     "name": "stderr",
     "output_type": "stream",
     "text": [
      "100%|██████████| 50/50 [00:13<00:00,  3.59it/s]\n"
     ]
    }
   ],
   "source": [
    "# 3\n",
    "df_train_signed = df_train.copy()\n",
    "df_train_signed['rating'] = transform_signed(df_train[\"rating\"].values)\n",
    "interactions_signed = df_to_matrix(df_train_signed)\n",
    "coo_interactions_signed = df_to_coo(df_train_signed)\n",
    "\n",
    "svd_recs = make_svd_recommendations(coo_interactions_signed, 100)\n",
    "results[\"binary_signed_svd\"] = calculate_ndcg(df_test, svd_recs)\n",
    "als_recs = make_als_recommendations(interactions_signed, alpha=1.0)\n",
    "results[\"binary_signed_als\"] = calculate_ndcg(df_test, als_recs)"
   ]
  },
  {
   "cell_type": "code",
   "execution_count": null,
   "id": "2c786b01",
   "metadata": {},
   "outputs": [
    {
     "name": "stderr",
     "output_type": "stream",
     "text": [
      "100%|██████████| 50/50 [00:20<00:00,  2.50it/s]\n"
     ]
    }
   ],
   "source": [
    "# 4\n",
    "df_train_signed_time_decay = df_train.copy()\n",
    "df_train_signed_time_decay['rating'] = transform_signed_time_decay(df_train)\n",
    "interactions_signed_time_decay = df_to_matrix(df_train_signed_time_decay)\n",
    "coo_interactions_signed_time_decay = df_to_coo(df_train_signed_time_decay)\n",
    "\n",
    "svd_recs = make_svd_recommendations(coo_interactions_signed_time_decay, 100)\n",
    "results[\"binary_signed_time_decay_svd\"] = calculate_ndcg(df_test, svd_recs)\n",
    "als_recs = make_als_recommendations(interactions_signed_time_decay, alpha=1.0)\n",
    "results[\"binary_signed_time_decay_als\"] = calculate_ndcg(df_test, als_recs)"
   ]
  },
  {
   "cell_type": "code",
   "execution_count": null,
   "id": "859ef035",
   "metadata": {},
   "outputs": [
    {
     "data": {
      "text/plain": [
       "{'binary_all_svd': np.float64(0.20362154910788785),\n",
       " 'binary_all_als': np.float64(0.1998446346764113),\n",
       " 'binary_4plus_svd': np.float64(0.15449271672967502),\n",
       " 'binary_4plus_als': np.float64(0.17397993921169447),\n",
       " 'binary_signed_svd': np.float64(0.20362154910788785),\n",
       " 'binary_signed_als': np.float64(0.2009492547929859),\n",
       " 'binary_signed_time_decay_svd': np.float64(0.20362154910788785),\n",
       " 'binary_signed_time_decay_als': np.float64(0.1912349435987662)}"
      ]
     },
     "execution_count": 196,
     "metadata": {},
     "output_type": "execute_result"
    }
   ],
   "source": [
    "results"
   ]
  },
  {
   "cell_type": "code",
   "execution_count": null,
   "id": "ba275b93",
   "metadata": {},
   "outputs": [
    {
     "data": {
      "image/png": "[encoded data removed]",
      "text/plain": [
       "<Figure size 1000x600 with 1 Axes>"
      ]
     },
     "metadata": {},
     "output_type": "display_data"
    }
   ],
   "source": [
    "transformations = [\"Бинаризация всех\", \"Бинаризация 4+\", \"4+/−1\", \"Сглаживание по времени\"]\n",
    "svd_scores = [0.20362154910788785, 0.15449271672967502, 0.20362154910788785, 0.20362154910788785]\n",
    "als_scores = [0.1998446346764113, 0.17397993921169447, 0.2009492547929859, 0.1912349435987662]\n",
    "\n",
    "plt.figure(figsize=(10, 6))\n",
    "plt.plot(transformations, svd_scores, marker=\"o\", label=\"SVD\")\n",
    "plt.plot(transformations, als_scores, marker=\"o\", label=\"ALS\")\n",
    "plt.title(\"Сравнение методов матричной факторизации\")\n",
    "plt.ylabel(\"NDCG@100\")\n",
    "plt.ylim(0, 0.6)\n",
    "plt.legend()\n",
    "plt.grid(True)\n",
    "plt.show()"
   ]
  },
  {
   "cell_type": "markdown",
   "id": "ee7a03b1-5072-4bc4-ba46-1fc3c989b888",
   "metadata": {},
   "source": [
    "##### Задание 5. iALS на numpy/torch. Давайте реализуем алгоритм iALS на нумпае или торче. Требуется реализовать алгорит, описанный в 4 части [статьи](http://yifanhu.net/PUB/cf.pdf). Обратите внимания на все оптимизации, которые они описывают в статье, чтобы сократить лишние вычисления. Hint: метрики у вашего алгоритма должны быть сравнимы с метриками ALS из библиотеки implicit"
   ]
  },
  {
   "cell_type": "code",
   "execution_count": null,
   "id": "a9aa65d7-11dc-48d9-a270-8d0a6d96f28e",
   "metadata": {},
   "outputs": [],
   "source": [
    "class iALS:\n",
    "    def _init_(self, n_factors=100, alpha=1.0, reg=0.01):\n",
    "        self.n_factors = n_factors\n",
    "        self.alpha = alpha\n",
    "        self.reg = reg\n",
    "        self.user_factors = None\n",
    "        self.item_factors = None\n",
    "\n",
    "    def _init_factors(self, n_users, n_items):\n",
    "        self.user_factors = np.random.normal(\n",
    "            scale=1/np.sqrt(self.n_factors), \n",
    "            size=(n_users, self.n_factors)\n",
    "        )\n",
    "        self.item_factors = np.random.normal(\n",
    "            scale=1/np.sqrt(self.n_factors), \n",
    "            size=(n_items, self.n_factors)\n",
    "        )\n",
    "\n",
    "    def fit(self, interactions: coo_matrix, n_iters=10):\n",
    "        n_users, n_items = interactions.shape\n",
    "        self._init_factors(n_users, n_items)\n",
    "\n",
    "        for _ in range(n_iters):\n",
    "            self._update_users(interactions)\n",
    "            self._update_items(interactions)\n",
    "\n",
    "    def _update_users(self, interactions: coo_matrix):\n",
    "        n_users = interactions.shape[0]\n",
    "        for u in range(n_users):\n",
    "            items = interactions.row == u\n",
    "            if not np.any(items):\n",
    "                continue\n",
    "            item_indices = interactions.col[items]\n",
    "            A = self.item_factors[item_indices]\n",
    "            b = np.ones(len(item_indices)) * self.alpha\n",
    "            lambda_eye = self.reg * np.eye(self.n_factors)\n",
    "            self.user_factors[u] = np.linalg.solve(A.T @ A + lambda_eye, A.T @ b)\n",
    "\n",
    "    def _update_items(self, interactions: coo_matrix):\n",
    "        n_items = interactions.shape[1]\n",
    "        for i in range(n_items):\n",
    "            users = interactions.col == i\n",
    "            if not np.any(users):\n",
    "                continue\n",
    "            user_indices = interactions.row[users]\n",
    "            A = self.user_factors[user_indices]\n",
    "            b = np.ones(len(user_indices)) * self.alpha\n",
    "            lambda_eye = self.reg * np.eye(self.n_factors)\n",
    "            self.item_factors[i] = np.linalg.solve(A.T @ A + lambda_eye, A.T @ b)\n",
    "\n",
    "    def predict(self, user_ids: np.ndarray, top_k=100):\n",
    "        scores = self.user_factors[user_ids] @ self.item_factors.T\n",
    "        return np.argsort(-scores, axis=1)[:, :top_k]"
   ]
  },
  {
   "cell_type": "code",
   "execution_count": null,
   "id": "085b8604",
   "metadata": {},
   "outputs": [],
   "source": [
    "model = iALS(n_factors=50, alpha=40, reg=0.1)\n",
    "model.fit(coo_interactions, n_iters=10)"
   ]
  },
  {
   "cell_type": "code",
   "execution_count": null,
   "id": "87a621b2",
   "metadata": {},
   "outputs": [
    {
     "name": "stdout",
     "output_type": "stream",
     "text": [
      "NDCG@100: 0.0526\n"
     ]
    }
   ],
   "source": [
    "recs = model.predict(df_train.user_id.unique(), top_k=100)\n",
    "\n",
    "ndcg = calculate_ndcg(df_test, recs)\n",
    "print(f\"NDCG@100: {ndcg:.4f}\")"
   ]
  }
 ],
 "metadata": {
  "kernelspec": {
   "display_name": "Python 3",
   "language": "python",
   "name": "python3"
  },
  "language_info": {
   "codemirror_mode": {
    "name": "ipython",
    "version": 3
   },
   "file_extension": ".py",
   "mimetype": "text/x-python",
   "name": "python",
   "nbconvert_exporter": "python",
   "pygments_lexer": "ipython3",
   "version": "3.11.11"
  }
 },
 "nbformat": 4,
 "nbformat_minor": 5
}
